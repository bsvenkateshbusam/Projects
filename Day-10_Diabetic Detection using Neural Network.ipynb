{
 "cells": [
  {
   "cell_type": "markdown",
   "metadata": {},
   "source": [
    "## Predicting the Diabetes\n",
    "#### Building a neural network to accurately predict whether or not the patients in the dataset have diabetes or not?\n",
    "\n"
   ]
  },
  {
   "cell_type": "code",
   "execution_count": 1,
   "metadata": {},
   "outputs": [],
   "source": [
    "# Importing required libraries\n",
    "import pandas as pd\n",
    "import numpy as np\n",
    "from keras.models import Sequential\n",
    "from keras.layers import Dense\n",
    "from keras.models import model_from_json"
   ]
  },
  {
   "cell_type": "code",
   "execution_count": 2,
   "metadata": {},
   "outputs": [
    {
     "data": {
      "text/plain": [
       "array([[  6.   , 148.   ,  72.   , ...,   0.627,  50.   ,   1.   ],\n",
       "       [  1.   ,  85.   ,  66.   , ...,   0.351,  31.   ,   0.   ],\n",
       "       [  8.   , 183.   ,  64.   , ...,   0.672,  32.   ,   1.   ],\n",
       "       ...,\n",
       "       [  5.   , 121.   ,  72.   , ...,   0.245,  30.   ,   0.   ],\n",
       "       [  1.   , 126.   ,  60.   , ...,   0.349,  47.   ,   1.   ],\n",
       "       [  1.   ,  93.   ,  70.   , ...,   0.315,  23.   ,   0.   ]])"
      ]
     },
     "execution_count": 2,
     "metadata": {},
     "output_type": "execute_result"
    }
   ],
   "source": [
    "# Loading the data\n",
    "df = np.loadtxt('pima-indians-diabetes.csv', delimiter=',')\n",
    "df"
   ]
  },
  {
   "cell_type": "markdown",
   "metadata": {},
   "source": [
    "### Preparing the data"
   ]
  },
  {
   "cell_type": "code",
   "execution_count": 3,
   "metadata": {},
   "outputs": [],
   "source": [
    "#  Splitting the data into dependent and independent variables\n",
    "X = df[:,0:8]\n",
    "y = df[:,8]"
   ]
  },
  {
   "cell_type": "markdown",
   "metadata": {},
   "source": [
    "### Neural Network"
   ]
  },
  {
   "cell_type": "code",
   "execution_count": 4,
   "metadata": {},
   "outputs": [],
   "source": [
    "# Building the neural network model\n",
    "model = Sequential()\n",
    "model.add(Dense(12,input_dim=8,activation='relu'))\n",
    "model.add(Dense(8,activation='relu'))\n",
    "model.add(Dense(1,activation='sigmoid'))"
   ]
  },
  {
   "cell_type": "code",
   "execution_count": 5,
   "metadata": {},
   "outputs": [
    {
     "name": "stdout",
     "output_type": "stream",
     "text": [
      "Model: \"sequential\"\n",
      "_________________________________________________________________\n",
      "Layer (type)                 Output Shape              Param #   \n",
      "=================================================================\n",
      "dense (Dense)                (None, 12)                108       \n",
      "_________________________________________________________________\n",
      "dense_1 (Dense)              (None, 8)                 104       \n",
      "_________________________________________________________________\n",
      "dense_2 (Dense)              (None, 1)                 9         \n",
      "=================================================================\n",
      "Total params: 221\n",
      "Trainable params: 221\n",
      "Non-trainable params: 0\n",
      "_________________________________________________________________\n"
     ]
    }
   ],
   "source": [
    "# Summary of the neural network\n",
    "model.summary()"
   ]
  },
  {
   "cell_type": "code",
   "execution_count": 6,
   "metadata": {},
   "outputs": [],
   "source": [
    "# Compiling the model\n",
    "model.compile(optimizer='adam',loss='binary_crossentropy',metrics=['accuracy'])"
   ]
  },
  {
   "cell_type": "code",
   "execution_count": 7,
   "metadata": {},
   "outputs": [
    {
     "name": "stdout",
     "output_type": "stream",
     "text": [
      "Epoch 1/150\n",
      "24/24 [==============================] - 0s 1ms/step - loss: 9.8641 - accuracy: 0.6497\n",
      "Epoch 2/150\n",
      "24/24 [==============================] - 0s 1ms/step - loss: 2.8513 - accuracy: 0.6237\n",
      "Epoch 3/150\n",
      "24/24 [==============================] - 0s 1ms/step - loss: 1.2935 - accuracy: 0.5690\n",
      "Epoch 4/150\n",
      "24/24 [==============================] - 0s 1ms/step - loss: 1.0508 - accuracy: 0.5885\n",
      "Epoch 5/150\n",
      "24/24 [==============================] - 0s 1ms/step - loss: 0.9722 - accuracy: 0.5977\n",
      "Epoch 6/150\n",
      "24/24 [==============================] - 0s 2ms/step - loss: 0.8788 - accuracy: 0.5951\n",
      "Epoch 7/150\n",
      "24/24 [==============================] - 0s 1ms/step - loss: 0.8280 - accuracy: 0.6016\n",
      "Epoch 8/150\n",
      "24/24 [==============================] - 0s 1ms/step - loss: 0.7808 - accuracy: 0.6172\n",
      "Epoch 9/150\n",
      "24/24 [==============================] - 0s 1ms/step - loss: 0.7339 - accuracy: 0.6211\n",
      "Epoch 10/150\n",
      "24/24 [==============================] - 0s 1ms/step - loss: 0.7083 - accuracy: 0.6224\n",
      "Epoch 11/150\n",
      "24/24 [==============================] - 0s 1ms/step - loss: 0.6965 - accuracy: 0.6341\n",
      "Epoch 12/150\n",
      "24/24 [==============================] - 0s 1ms/step - loss: 0.6932 - accuracy: 0.6263\n",
      "Epoch 13/150\n",
      "24/24 [==============================] - 0s 1ms/step - loss: 0.6914 - accuracy: 0.6523\n",
      "Epoch 14/150\n",
      "24/24 [==============================] - 0s 1ms/step - loss: 0.6706 - accuracy: 0.6471\n",
      "Epoch 15/150\n",
      "24/24 [==============================] - 0s 1ms/step - loss: 0.6646 - accuracy: 0.6419\n",
      "Epoch 16/150\n",
      "24/24 [==============================] - 0s 1ms/step - loss: 0.6454 - accuracy: 0.6562\n",
      "Epoch 17/150\n",
      "24/24 [==============================] - 0s 1ms/step - loss: 0.6515 - accuracy: 0.6484\n",
      "Epoch 18/150\n",
      "24/24 [==============================] - 0s 1ms/step - loss: 0.6410 - accuracy: 0.6615\n",
      "Epoch 19/150\n",
      "24/24 [==============================] - 0s 1ms/step - loss: 0.6334 - accuracy: 0.6680\n",
      "Epoch 20/150\n",
      "24/24 [==============================] - 0s 1ms/step - loss: 0.6261 - accuracy: 0.6745\n",
      "Epoch 21/150\n",
      "24/24 [==============================] - 0s 1ms/step - loss: 0.6356 - accuracy: 0.6576\n",
      "Epoch 22/150\n",
      "24/24 [==============================] - 0s 2ms/step - loss: 0.6282 - accuracy: 0.6536\n",
      "Epoch 23/150\n",
      "24/24 [==============================] - 0s 2ms/step - loss: 0.6160 - accuracy: 0.6836\n",
      "Epoch 24/150\n",
      "24/24 [==============================] - 0s 1ms/step - loss: 0.6173 - accuracy: 0.6797\n",
      "Epoch 25/150\n",
      "24/24 [==============================] - 0s 1ms/step - loss: 0.6171 - accuracy: 0.6615\n",
      "Epoch 26/150\n",
      "24/24 [==============================] - 0s 2ms/step - loss: 0.6067 - accuracy: 0.6875\n",
      "Epoch 27/150\n",
      "24/24 [==============================] - 0s 1ms/step - loss: 0.6088 - accuracy: 0.6836\n",
      "Epoch 28/150\n",
      "24/24 [==============================] - 0s 1ms/step - loss: 0.6073 - accuracy: 0.7057\n",
      "Epoch 29/150\n",
      "24/24 [==============================] - 0s 1ms/step - loss: 0.6102 - accuracy: 0.6745\n",
      "Epoch 30/150\n",
      "24/24 [==============================] - 0s 1ms/step - loss: 0.6135 - accuracy: 0.6706\n",
      "Epoch 31/150\n",
      "24/24 [==============================] - 0s 2ms/step - loss: 0.6220 - accuracy: 0.6771\n",
      "Epoch 32/150\n",
      "24/24 [==============================] - 0s 1ms/step - loss: 0.6145 - accuracy: 0.6901\n",
      "Epoch 33/150\n",
      "24/24 [==============================] - 0s 1ms/step - loss: 0.6147 - accuracy: 0.6628\n",
      "Epoch 34/150\n",
      "24/24 [==============================] - 0s 2ms/step - loss: 0.5907 - accuracy: 0.6992\n",
      "Epoch 35/150\n",
      "24/24 [==============================] - 0s 2ms/step - loss: 0.5949 - accuracy: 0.6992\n",
      "Epoch 36/150\n",
      "24/24 [==============================] - 0s 1ms/step - loss: 0.5849 - accuracy: 0.6992\n",
      "Epoch 37/150\n",
      "24/24 [==============================] - 0s 1ms/step - loss: 0.5893 - accuracy: 0.6927\n",
      "Epoch 38/150\n",
      "24/24 [==============================] - 0s 1ms/step - loss: 0.5914 - accuracy: 0.7005\n",
      "Epoch 39/150\n",
      "24/24 [==============================] - 0s 1ms/step - loss: 0.5891 - accuracy: 0.6849\n",
      "Epoch 40/150\n",
      "24/24 [==============================] - 0s 1ms/step - loss: 0.5847 - accuracy: 0.7057\n",
      "Epoch 41/150\n",
      "24/24 [==============================] - 0s 1ms/step - loss: 0.5757 - accuracy: 0.7109\n",
      "Epoch 42/150\n",
      "24/24 [==============================] - 0s 1ms/step - loss: 0.5879 - accuracy: 0.7044\n",
      "Epoch 43/150\n",
      "24/24 [==============================] - 0s 2ms/step - loss: 0.5837 - accuracy: 0.7070\n",
      "Epoch 44/150\n",
      "24/24 [==============================] - 0s 1ms/step - loss: 0.5741 - accuracy: 0.7018\n",
      "Epoch 45/150\n",
      "24/24 [==============================] - 0s 1ms/step - loss: 0.6129 - accuracy: 0.6862\n",
      "Epoch 46/150\n",
      "24/24 [==============================] - 0s 1ms/step - loss: 0.5811 - accuracy: 0.6966\n",
      "Epoch 47/150\n",
      "24/24 [==============================] - 0s 1ms/step - loss: 0.5697 - accuracy: 0.7148\n",
      "Epoch 48/150\n",
      "24/24 [==============================] - 0s 1ms/step - loss: 0.5661 - accuracy: 0.7070\n",
      "Epoch 49/150\n",
      "24/24 [==============================] - 0s 1ms/step - loss: 0.5875 - accuracy: 0.6849\n",
      "Epoch 50/150\n",
      "24/24 [==============================] - 0s 1ms/step - loss: 0.5799 - accuracy: 0.7083\n",
      "Epoch 51/150\n",
      "24/24 [==============================] - 0s 1ms/step - loss: 0.5668 - accuracy: 0.7109\n",
      "Epoch 52/150\n",
      "24/24 [==============================] - 0s 1ms/step - loss: 0.5677 - accuracy: 0.6979\n",
      "Epoch 53/150\n",
      "24/24 [==============================] - 0s 1ms/step - loss: 0.5581 - accuracy: 0.7214\n",
      "Epoch 54/150\n",
      "24/24 [==============================] - 0s 1ms/step - loss: 0.5634 - accuracy: 0.7148\n",
      "Epoch 55/150\n",
      "24/24 [==============================] - 0s 1ms/step - loss: 0.5593 - accuracy: 0.7214\n",
      "Epoch 56/150\n",
      "24/24 [==============================] - 0s 1ms/step - loss: 0.5595 - accuracy: 0.7161\n",
      "Epoch 57/150\n",
      "24/24 [==============================] - 0s 1ms/step - loss: 0.5592 - accuracy: 0.7279\n",
      "Epoch 58/150\n",
      "24/24 [==============================] - 0s 1ms/step - loss: 0.5619 - accuracy: 0.7331\n",
      "Epoch 59/150\n",
      "24/24 [==============================] - 0s 1ms/step - loss: 0.5649 - accuracy: 0.7057\n",
      "Epoch 60/150\n",
      "24/24 [==============================] - 0s 1ms/step - loss: 0.5614 - accuracy: 0.7214\n",
      "Epoch 61/150\n",
      "24/24 [==============================] - 0s 1ms/step - loss: 0.5680 - accuracy: 0.7227\n",
      "Epoch 62/150\n",
      "24/24 [==============================] - 0s 1ms/step - loss: 0.5660 - accuracy: 0.7174\n",
      "Epoch 63/150\n",
      "24/24 [==============================] - 0s 1ms/step - loss: 0.5494 - accuracy: 0.7135\n",
      "Epoch 64/150\n",
      "24/24 [==============================] - 0s 1ms/step - loss: 0.5545 - accuracy: 0.7188\n",
      "Epoch 65/150\n",
      "24/24 [==============================] - 0s 1ms/step - loss: 0.5511 - accuracy: 0.7344\n",
      "Epoch 66/150\n",
      "24/24 [==============================] - 0s 1ms/step - loss: 0.5530 - accuracy: 0.7227\n",
      "Epoch 67/150\n",
      "24/24 [==============================] - 0s 1ms/step - loss: 0.5550 - accuracy: 0.7331\n",
      "Epoch 68/150\n",
      "24/24 [==============================] - 0s 1ms/step - loss: 0.5649 - accuracy: 0.7161\n",
      "Epoch 69/150\n",
      "24/24 [==============================] - 0s 1ms/step - loss: 0.5583 - accuracy: 0.7188\n",
      "Epoch 70/150\n",
      "24/24 [==============================] - 0s 1ms/step - loss: 0.5462 - accuracy: 0.7201\n",
      "Epoch 71/150\n",
      "24/24 [==============================] - 0s 1ms/step - loss: 0.5504 - accuracy: 0.7148\n",
      "Epoch 72/150\n",
      "24/24 [==============================] - 0s 1ms/step - loss: 0.5457 - accuracy: 0.7135\n",
      "Epoch 73/150\n",
      "24/24 [==============================] - 0s 1ms/step - loss: 0.5440 - accuracy: 0.7279\n",
      "Epoch 74/150\n",
      "24/24 [==============================] - 0s 1ms/step - loss: 0.5398 - accuracy: 0.7135\n",
      "Epoch 75/150\n",
      "24/24 [==============================] - 0s 1ms/step - loss: 0.5522 - accuracy: 0.7201\n",
      "Epoch 76/150\n",
      "24/24 [==============================] - 0s 1ms/step - loss: 0.5569 - accuracy: 0.7201\n",
      "Epoch 77/150\n",
      "24/24 [==============================] - 0s 1ms/step - loss: 0.5681 - accuracy: 0.7122\n",
      "Epoch 78/150\n",
      "24/24 [==============================] - 0s 1ms/step - loss: 0.5554 - accuracy: 0.7031\n",
      "Epoch 79/150\n",
      "24/24 [==============================] - 0s 1ms/step - loss: 0.5374 - accuracy: 0.7305\n",
      "Epoch 80/150\n",
      "24/24 [==============================] - 0s 1ms/step - loss: 0.5500 - accuracy: 0.7305\n",
      "Epoch 81/150\n",
      "24/24 [==============================] - 0s 1ms/step - loss: 0.5437 - accuracy: 0.7201\n",
      "Epoch 82/150\n",
      "24/24 [==============================] - 0s 1ms/step - loss: 0.5672 - accuracy: 0.7214\n",
      "Epoch 83/150\n",
      "24/24 [==============================] - 0s 1ms/step - loss: 0.5373 - accuracy: 0.7344\n",
      "Epoch 84/150\n",
      "24/24 [==============================] - 0s 1ms/step - loss: 0.5317 - accuracy: 0.7370\n",
      "Epoch 85/150\n",
      "24/24 [==============================] - 0s 1ms/step - loss: 0.5388 - accuracy: 0.7279\n",
      "Epoch 86/150\n",
      "24/24 [==============================] - 0s 1ms/step - loss: 0.5293 - accuracy: 0.7552\n",
      "Epoch 87/150\n",
      "24/24 [==============================] - 0s 1ms/step - loss: 0.5299 - accuracy: 0.7552\n",
      "Epoch 88/150\n",
      "24/24 [==============================] - 0s 1ms/step - loss: 0.5377 - accuracy: 0.7396\n",
      "Epoch 89/150\n",
      "24/24 [==============================] - 0s 1ms/step - loss: 0.5303 - accuracy: 0.7396\n",
      "Epoch 90/150\n",
      "24/24 [==============================] - 0s 1ms/step - loss: 0.5282 - accuracy: 0.7435\n",
      "Epoch 91/150\n",
      "24/24 [==============================] - 0s 1ms/step - loss: 0.5299 - accuracy: 0.7331\n",
      "Epoch 92/150\n",
      "24/24 [==============================] - 0s 1ms/step - loss: 0.5275 - accuracy: 0.7370\n",
      "Epoch 93/150\n",
      "24/24 [==============================] - 0s 1ms/step - loss: 0.5345 - accuracy: 0.7435\n",
      "Epoch 94/150\n",
      "24/24 [==============================] - 0s 1ms/step - loss: 0.5269 - accuracy: 0.7435\n",
      "Epoch 95/150\n",
      "24/24 [==============================] - 0s 1ms/step - loss: 0.5301 - accuracy: 0.7383\n",
      "Epoch 96/150\n",
      "24/24 [==============================] - 0s 1ms/step - loss: 0.5409 - accuracy: 0.7396\n",
      "Epoch 97/150\n",
      "24/24 [==============================] - 0s 1ms/step - loss: 0.5293 - accuracy: 0.7383\n",
      "Epoch 98/150\n",
      "24/24 [==============================] - 0s 1ms/step - loss: 0.5403 - accuracy: 0.7240\n",
      "Epoch 99/150\n",
      "24/24 [==============================] - 0s 1ms/step - loss: 0.5292 - accuracy: 0.7487\n",
      "Epoch 100/150\n",
      "24/24 [==============================] - 0s 1ms/step - loss: 0.5240 - accuracy: 0.7500\n",
      "Epoch 101/150\n",
      "24/24 [==============================] - 0s 1ms/step - loss: 0.5288 - accuracy: 0.7383\n",
      "Epoch 102/150\n",
      "24/24 [==============================] - 0s 1ms/step - loss: 0.5284 - accuracy: 0.7331\n",
      "Epoch 103/150\n",
      "24/24 [==============================] - 0s 1ms/step - loss: 0.5309 - accuracy: 0.7292\n",
      "Epoch 104/150\n",
      "24/24 [==============================] - 0s 1ms/step - loss: 0.5282 - accuracy: 0.7370\n",
      "Epoch 105/150\n",
      "24/24 [==============================] - 0s 1ms/step - loss: 0.5209 - accuracy: 0.7552\n",
      "Epoch 106/150\n",
      "24/24 [==============================] - 0s 1ms/step - loss: 0.5320 - accuracy: 0.7318\n",
      "Epoch 107/150\n",
      "24/24 [==============================] - 0s 1ms/step - loss: 0.5320 - accuracy: 0.7396\n",
      "Epoch 108/150\n",
      "24/24 [==============================] - 0s 1ms/step - loss: 0.5217 - accuracy: 0.7383\n",
      "Epoch 109/150\n",
      "24/24 [==============================] - 0s 1ms/step - loss: 0.5275 - accuracy: 0.7370\n",
      "Epoch 110/150\n",
      "24/24 [==============================] - 0s 1ms/step - loss: 0.5191 - accuracy: 0.7370\n",
      "Epoch 111/150\n",
      "24/24 [==============================] - 0s 1ms/step - loss: 0.5184 - accuracy: 0.7539\n",
      "Epoch 112/150\n",
      "24/24 [==============================] - 0s 1ms/step - loss: 0.5151 - accuracy: 0.7435\n",
      "Epoch 113/150\n",
      "24/24 [==============================] - 0s 1ms/step - loss: 0.5428 - accuracy: 0.7240\n",
      "Epoch 114/150\n",
      "24/24 [==============================] - 0s 1ms/step - loss: 0.5248 - accuracy: 0.7461\n",
      "Epoch 115/150\n",
      "24/24 [==============================] - 0s 1ms/step - loss: 0.5433 - accuracy: 0.7474\n",
      "Epoch 116/150\n",
      "24/24 [==============================] - 0s 1ms/step - loss: 0.5220 - accuracy: 0.7435\n",
      "Epoch 117/150\n",
      "24/24 [==============================] - 0s 1ms/step - loss: 0.5209 - accuracy: 0.7409\n",
      "Epoch 118/150\n",
      "24/24 [==============================] - 0s 1ms/step - loss: 0.5257 - accuracy: 0.7448\n",
      "Epoch 119/150\n",
      "24/24 [==============================] - 0s 1ms/step - loss: 0.5184 - accuracy: 0.7370\n",
      "Epoch 120/150\n",
      "24/24 [==============================] - 0s 1ms/step - loss: 0.5146 - accuracy: 0.7565\n",
      "Epoch 121/150\n",
      "24/24 [==============================] - 0s 1ms/step - loss: 0.5263 - accuracy: 0.7344\n",
      "Epoch 122/150\n",
      "24/24 [==============================] - 0s 1ms/step - loss: 0.5237 - accuracy: 0.7422\n",
      "Epoch 123/150\n",
      "24/24 [==============================] - 0s 1ms/step - loss: 0.5132 - accuracy: 0.7487\n",
      "Epoch 124/150\n",
      "24/24 [==============================] - 0s 1ms/step - loss: 0.5163 - accuracy: 0.7474\n",
      "Epoch 125/150\n",
      "24/24 [==============================] - 0s 1ms/step - loss: 0.5248 - accuracy: 0.7331\n",
      "Epoch 126/150\n",
      "24/24 [==============================] - 0s 1ms/step - loss: 0.5145 - accuracy: 0.7513\n",
      "Epoch 127/150\n",
      "24/24 [==============================] - 0s 1ms/step - loss: 0.5138 - accuracy: 0.7617\n",
      "Epoch 128/150\n",
      "24/24 [==============================] - 0s 1ms/step - loss: 0.5150 - accuracy: 0.7487\n",
      "Epoch 129/150\n",
      "24/24 [==============================] - 0s 1ms/step - loss: 0.5254 - accuracy: 0.7422\n",
      "Epoch 130/150\n",
      "24/24 [==============================] - 0s 1ms/step - loss: 0.5212 - accuracy: 0.7396\n",
      "Epoch 131/150\n",
      "24/24 [==============================] - 0s 1ms/step - loss: 0.5196 - accuracy: 0.7396\n",
      "Epoch 132/150\n",
      "24/24 [==============================] - 0s 1ms/step - loss: 0.5087 - accuracy: 0.7500\n",
      "Epoch 133/150\n",
      "24/24 [==============================] - 0s 1ms/step - loss: 0.5135 - accuracy: 0.7435\n",
      "Epoch 134/150\n",
      "24/24 [==============================] - 0s 1ms/step - loss: 0.5166 - accuracy: 0.7461\n",
      "Epoch 135/150\n",
      "24/24 [==============================] - 0s 1ms/step - loss: 0.5357 - accuracy: 0.7435\n",
      "Epoch 136/150\n",
      "24/24 [==============================] - 0s 1ms/step - loss: 0.5195 - accuracy: 0.7526\n",
      "Epoch 137/150\n",
      "24/24 [==============================] - 0s 1ms/step - loss: 0.5150 - accuracy: 0.7448\n",
      "Epoch 138/150\n",
      "24/24 [==============================] - 0s 1ms/step - loss: 0.5315 - accuracy: 0.7435\n",
      "Epoch 139/150\n",
      "24/24 [==============================] - 0s 1ms/step - loss: 0.5178 - accuracy: 0.7526\n",
      "Epoch 140/150\n",
      "24/24 [==============================] - 0s 1ms/step - loss: 0.5118 - accuracy: 0.7578\n",
      "Epoch 141/150\n",
      "24/24 [==============================] - 0s 1ms/step - loss: 0.5148 - accuracy: 0.7409\n",
      "Epoch 142/150\n",
      "24/24 [==============================] - 0s 1ms/step - loss: 0.5164 - accuracy: 0.7565\n",
      "Epoch 143/150\n",
      "24/24 [==============================] - 0s 2ms/step - loss: 0.5117 - accuracy: 0.7474\n",
      "Epoch 144/150\n",
      "24/24 [==============================] - 0s 2ms/step - loss: 0.5038 - accuracy: 0.7552\n",
      "Epoch 145/150\n",
      "24/24 [==============================] - 0s 1ms/step - loss: 0.5114 - accuracy: 0.7552\n",
      "Epoch 146/150\n",
      "24/24 [==============================] - 0s 1ms/step - loss: 0.5137 - accuracy: 0.7396\n",
      "Epoch 147/150\n",
      "24/24 [==============================] - 0s 1ms/step - loss: 0.5165 - accuracy: 0.7461\n",
      "Epoch 148/150\n",
      "24/24 [==============================] - 0s 1ms/step - loss: 0.5121 - accuracy: 0.7617\n",
      "Epoch 149/150\n",
      "24/24 [==============================] - 0s 1ms/step - loss: 0.5078 - accuracy: 0.7617\n",
      "Epoch 150/150\n",
      "24/24 [==============================] - 0s 1ms/step - loss: 0.5047 - accuracy: 0.7552\n"
     ]
    },
    {
     "data": {
      "text/plain": [
       "<tensorflow.python.keras.callbacks.History at 0x283ed042760>"
      ]
     },
     "execution_count": 7,
     "metadata": {},
     "output_type": "execute_result"
    }
   ],
   "source": [
    "# Applying the data to the model\n",
    "model.fit(X,y,epochs=150,batch_size=32)"
   ]
  },
  {
   "cell_type": "code",
   "execution_count": 8,
   "metadata": {},
   "outputs": [
    {
     "name": "stdout",
     "output_type": "stream",
     "text": [
      "24/24 [==============================] - 0s 1ms/step - loss: 0.5029 - accuracy: 0.7474\n"
     ]
    },
    {
     "data": {
      "text/plain": [
       "[0.5029215216636658, 0.7473958134651184]"
      ]
     },
     "execution_count": 8,
     "metadata": {},
     "output_type": "execute_result"
    }
   ],
   "source": [
    "# Evaluating the model\n",
    "model.evaluate(X,y)"
   ]
  },
  {
   "cell_type": "markdown",
   "metadata": {},
   "source": [
    "### Saving the model"
   ]
  },
  {
   "cell_type": "code",
   "execution_count": 9,
   "metadata": {},
   "outputs": [],
   "source": [
    "# Saving the model into json file \n",
    "savemodel = model.to_json()\n",
    "with open('model.json','w') as json_file:\n",
    "    json_file.write(savemodel)\n",
    "model.save_weights('model.h5')"
   ]
  },
  {
   "cell_type": "code",
   "execution_count": 10,
   "metadata": {},
   "outputs": [],
   "source": [
    "# Opening the json model from the disk \n",
    "json_file = open('model.json','r')\n",
    "json_model_loded = json_file.read()\n",
    "json_file.close()\n",
    "model = model_from_json(json_model_loded)\n",
    "model.load_weights('model.h5')"
   ]
  },
  {
   "cell_type": "markdown",
   "metadata": {},
   "source": [
    "### Prediction the class using the neural network model"
   ]
  },
  {
   "cell_type": "code",
   "execution_count": 12,
   "metadata": {},
   "outputs": [
    {
     "name": "stdout",
     "output_type": "stream",
     "text": [
      "WARNING:tensorflow:From <ipython-input-12-e9b3c6d5318d>:3: Sequential.predict_classes (from tensorflow.python.keras.engine.sequential) is deprecated and will be removed after 2021-01-01.\n",
      "Instructions for updating:\n",
      "Please use instead:* `np.argmax(model.predict(x), axis=-1)`,   if your model does multi-class classification   (e.g. if it uses a `softmax` last-layer activation).* `(model.predict(x) > 0.5).astype(\"int32\")`,   if your model does binary classification   (e.g. if it uses a `sigmoid` last-layer activation).\n"
     ]
    },
    {
     "data": {
      "text/plain": [
       "array([[0]])"
      ]
     },
     "execution_count": 12,
     "metadata": {},
     "output_type": "execute_result"
    }
   ],
   "source": [
    "# Predicting the class using some data\n",
    "val1 = [[5,150,70,14,80,31.1,0.142,21]]\n",
    "pred1 = model.predict_classes(val1)\n",
    "pred1"
   ]
  },
  {
   "cell_type": "code",
   "execution_count": 13,
   "metadata": {},
   "outputs": [
    {
     "data": {
      "text/plain": [
       "array([[1]])"
      ]
     },
     "execution_count": 13,
     "metadata": {},
     "output_type": "execute_result"
    }
   ],
   "source": [
    "val2 = [[6,121,90,21,56,40,121,14]]\n",
    "pred2 = model.predict_classes(val2)\n",
    "pred2"
   ]
  },
  {
   "cell_type": "code",
   "execution_count": 14,
   "metadata": {},
   "outputs": [
    {
     "data": {
      "text/plain": [
       "array([[0]])"
      ]
     },
     "execution_count": 14,
     "metadata": {},
     "output_type": "execute_result"
    }
   ],
   "source": [
    "val3 = [[1,93,70,31,0,30.4,0.315,23]]\n",
    "pred3 = model.predict_classes(val3)\n",
    "pred3"
   ]
  },
  {
   "cell_type": "code",
   "execution_count": null,
   "metadata": {},
   "outputs": [],
   "source": []
  }
 ],
 "metadata": {
  "kernelspec": {
   "display_name": "Python 3",
   "language": "python",
   "name": "python3"
  }
 },
 "nbformat": 4,
 "nbformat_minor": 4
}
